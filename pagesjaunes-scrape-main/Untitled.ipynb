{
 "cells": [
  {
   "cell_type": "code",
   "execution_count": 1,
   "metadata": {},
   "outputs": [],
   "source": [
    "import pandas as pd"
   ]
  },
  {
   "cell_type": "code",
   "execution_count": 2,
   "metadata": {},
   "outputs": [],
   "source": [
    "import numpy as np\n",
    "from bs4 import BeautifulSoup\n",
    "import requests"
   ]
  },
  {
   "cell_type": "code",
   "execution_count": 9,
   "metadata": {},
   "outputs": [
    {
     "name": "stdout",
     "output_type": "stream",
     "text": [
      "0\n",
      "1\n",
      "2\n",
      "[]\n",
      "[]\n"
     ]
    }
   ],
   "source": [
    "import main\n",
    "object = main.Scraper()\n",
    "\n",
    "def get_data_using_id(file_name, start_id, end_id):\n",
    "    all_ids = list(pd.read_csv(\"{}\".format(file_name)).iloc[:,0])\n",
    "    required_ids = all_ids[start_id : end_id]\n",
    "    #print(required_ids)\n",
    "    filename = \"{}-{}-data.csv\".format(start_id, end_id)\n",
    "    error_ids = []\n",
    "    for i in range(len(required_ids)):\n",
    "        print(i)\n",
    "        if(len(str(required_ids[i])) != 8):\n",
    "            s = \"\"\n",
    "            for j in range(8-len(str(required_ids[i]))):\n",
    "                s+=\"0\"\n",
    "            s+=str(required_ids[i])\n",
    "            url = \"https://www.pagesjaunes.fr/pross/\" + s\n",
    "            try:\n",
    "                object.extract_details('{}'.format(url))\n",
    "            except Exception as e:\n",
    "                if e:\n",
    "                    error_ids.append(self.required_ids[i])\n",
    "        \n",
    "        else:\n",
    "            url = \"https://www.pagesjaunes.fr/pros/{}\".format(required_ids[i])\n",
    "            object.extract_details('{}'.format(url))\n",
    "            \n",
    "    print(error_ids)\n",
    "    print(object.scraped_data)\n",
    "    column = [\"url\", \"id\", \"nom_societe\", \"adresse\", \"code_postal\", \"ville\", \"rubrique\", \"siret\", \"dernire_modif\", \"tva_intra\", \"principaux_dirigeants\", \"rating\", 'review', \"telephone\", 'mobile', \"fax\", \"website\", \"activities\", 'prestations', \"produits\", \"description\", \"horaires\", \"budget\", \"tarif_nuit\", \"cuisine\", \"ambiance\", \"formules\", \"nom_du_chef\", \"references_et_guides\", \"moyens_de_paiement\", \"nbre_etoile_hotel\", \"nbre_chambres\", \"marque\", \"capacite_accueil\", \"info_pratique\", \"services_loisirs\", \"clientele\"]\n",
    "            \n",
    "    #df=pd.DataFrame(object.scraped_data,columns=column)\n",
    "    #df.to_csv(filename,index=False)  # If excel file of output data is required.\n",
    "    #return df\n",
    "    \n",
    "            \n",
    "df = get_data_using_id('pj_index_list_NEW.csv',0,3)"
   ]
  }
 ],
 "metadata": {
  "kernelspec": {
   "display_name": "Python 3",
   "language": "python",
   "name": "python3"
  },
  "language_info": {
   "codemirror_mode": {
    "name": "ipython",
    "version": 3
   },
   "file_extension": ".py",
   "mimetype": "text/x-python",
   "name": "python",
   "nbconvert_exporter": "python",
   "pygments_lexer": "ipython3",
   "version": "3.7.4"
  }
 },
 "nbformat": 4,
 "nbformat_minor": 2
}
